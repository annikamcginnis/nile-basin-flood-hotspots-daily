{
 "cells": [
  {
   "cell_type": "markdown",
   "id": "97b8fa9b-4cce-48bf-acfd-6b7369297571",
   "metadata": {},
   "source": [
    "# In November 2024, I downloaded the 'nile2:admin_cat' layer from the WFS URL \"https://nilebasin-dss-data.azurewebsites.net/geoserver/nile2/wfs?SERVICE=WFS&VERSION=1.1.0&REQUEST=GetFeature&TYPENAME=nile2:admin_cat&SRSNAME=EPSG:4326&OUTPUTFORMAT=application/json\" , which came out at 8.95 GB. This layer contains flash flood information for most administrative regions in the Nile Basin.\n",
    "\n",
    "# In this notebook, I loaded this large Json file and reduced it to around 400 MB by simplifying geometries."
   ]
  },
  {
   "cell_type": "code",
   "execution_count": 1,
   "id": "519cec8d-0045-4fd8-a8ca-93a1c70dc968",
   "metadata": {},
   "outputs": [
    {
     "name": "stdout",
     "output_type": "stream",
     "text": [
      "Loading GeoJSON file...\n",
      "Simplifying geometries...\n",
      "Saving simplified GeoJSON to simplified_admin_cat.json...\n",
      "Simplification complete!\n"
     ]
    }
   ],
   "source": [
    "import geopandas as gpd\n",
    "\n",
    "input_file = \"/Users/annikamcginnis/Documents/Foundations/Final Project/admin_cat.json\"\n",
    "output_file = \"simplified_admin_cat.json\"\n",
    "\n",
    "print(\"Loading GeoJSON file...\")\n",
    "gdf = gpd.read_file(input_file)\n",
    "\n",
    "print(\"Simplifying geometries...\")\n",
    "gdf[\"geometry\"] = gdf[\"geometry\"].simplify(tolerance=0.01, preserve_topology=True)\n",
    "\n",
    "print(f\"Saving simplified GeoJSON to {output_file}...\")\n",
    "gdf.to_file(output_file, driver=\"GeoJSON\")\n",
    "\n",
    "print(\"Simplification complete!\")"
   ]
  },
  {
   "cell_type": "markdown",
   "id": "45bd2998-b338-437f-9a10-9dd71396d27c",
   "metadata": {},
   "source": [
    "# After this, I loaded the file into QGIS, checked to see it captured all regions, simplified geometries a bit more and reduced the decimal points of coordinates (set at 15) to 4. \n",
    "\n",
    "# Next, I dissolved regions and saved the polygon lines in QGIS. Then I exported it as a Geojson file to get the overall boundary shape (not used in the map since Datawrapper can only allow for one base map, but could be used for more complex maps)."
   ]
  }
 ],
 "metadata": {
  "kernelspec": {
   "display_name": "Python 3 (ipykernel)",
   "language": "python",
   "name": "python3"
  },
  "language_info": {
   "codemirror_mode": {
    "name": "ipython",
    "version": 3
   },
   "file_extension": ".py",
   "mimetype": "text/x-python",
   "name": "python",
   "nbconvert_exporter": "python",
   "pygments_lexer": "ipython3",
   "version": "3.12.7"
  }
 },
 "nbformat": 4,
 "nbformat_minor": 5
}
