{
 "cells": [
  {
   "cell_type": "markdown",
   "id": "bba03397-6496-46f4-9df4-b658b7766d87",
   "metadata": {},
   "source": [
    "# Another option I am considering is keeping the polygons as the base map, and then downloading the hotspot clusters every day instead. This is a much small file and can be accessed through the WFS URL. The points are still categorized by their daily flash flood risk value."
   ]
  },
  {
   "cell_type": "code",
   "execution_count": 1,
   "id": "3db116ad-d21e-4e6a-8fcc-c967a52de855",
   "metadata": {},
   "outputs": [
    {
     "name": "stdout",
     "output_type": "stream",
     "text": [
      "GeoJSON file saved.\n"
     ]
    }
   ],
   "source": [
    "import requests\n",
    "import geopandas as gpd\n",
    "import io\n",
    "\n",
    "wfs_url = (\n",
    "    \"https://nilebasin-dss-data.azurewebsites.net/geoserver/nile2/wfs?\"\n",
    "    \"SERVICE=WFS&VERSION=1.1.0&REQUEST=GetFeature&TYPENAME=nile2:hybas_hotsport_cluster\"\n",
    "    \"&SRSNAME=EPSG:4326&OUTPUTFORMAT=application/json\"\n",
    ")\n",
    "\n",
    "response = requests.get(wfs_url, stream=True)\n",
    "if response.status_code == 200:\n",
    "    gdf = gpd.read_file(io.BytesIO(response.content))\n",
    "    gdf.to_file(\"hybas_hotsport_cluster_1242024.geojson\", driver=\"GeoJSON\")\n",
    "    print(\"GeoJSON file saved.\")\n",
    "else:\n",
    "    print(f\"Request failed with status code {response.status_code}\")\n"
   ]
  },
  {
   "cell_type": "code",
   "execution_count": null,
   "id": "2bc99fae-1483-4a7b-96be-7a2b7dcb75d1",
   "metadata": {},
   "outputs": [],
   "source": []
  }
 ],
 "metadata": {
  "kernelspec": {
   "display_name": "Python 3 (ipykernel)",
   "language": "python",
   "name": "python3"
  },
  "language_info": {
   "codemirror_mode": {
    "name": "ipython",
    "version": 3
   },
   "file_extension": ".py",
   "mimetype": "text/x-python",
   "name": "python",
   "nbconvert_exporter": "python",
   "pygments_lexer": "ipython3",
   "version": "3.12.7"
  }
 },
 "nbformat": 4,
 "nbformat_minor": 5
}
